{
 "cells": [
  {
   "cell_type": "markdown",
   "metadata": {},
   "source": [
    "### Imports"
   ]
  },
  {
   "cell_type": "code",
   "execution_count": 1,
   "metadata": {},
   "outputs": [],
   "source": [
    "import os\n",
    "from math import inf\n",
    "from typing import List\n",
    "import fot_wrapper\n",
    "import numpy as np\n",
    "import matplotlib.pyplot as plt\n",
    "from parser.scenario import get_scenario\n",
    "from parser.parser import Parser\n",
    "from commonroad.common.util import Interval\n",
    "from commonroad.scenario.state import PMState\n",
    "from commonroad.visualization.mp_renderer import MPRenderer\n",
    "from commonroad_rp.utility.config import ReactivePlannerConfiguration\n",
    "from commonroad_rp.reactive_planner import ReactivePlanner\n",
    "from parser.utils import create_trajectory_from_list_states, visualize_solution"
   ]
  },
  {
   "cell_type": "markdown",
   "metadata": {},
   "source": [
    "### Load Scenario & Planning Problem"
   ]
  },
  {
   "cell_type": "code",
   "execution_count": 2,
   "metadata": {},
   "outputs": [],
   "source": [
    "scenario_path = '/home/kareem/my-frenet/FrenetOptimalTrajectory/scenarios'\n",
    "scenario_name = 'USA_US101-3_1_T-1.xml'\n",
    "scenario, planning_problem, _ = get_scenario(scenario_path, scenario_name)"
   ]
  },
  {
   "cell_type": "markdown",
   "metadata": {},
   "source": [
    "### Load ReactivePlanner to get the target velocity"
   ]
  },
  {
   "cell_type": "code",
   "execution_count": 4,
   "metadata": {},
   "outputs": [],
   "source": [
    "config_file = \"reactive_planner_config.yaml\"\n",
    "config = ReactivePlannerConfiguration.load(os.getcwd() + \"/config/\" + config_file, scenario_name)\n",
    "config.update()\n",
    "planner = ReactivePlanner(config=config)"
   ]
  },
  {
   "cell_type": "markdown",
   "metadata": {},
   "source": [
    "### Parse scenario initial conditions and set Frenet hyperparameters"
   ]
  },
  {
   "cell_type": "code",
   "execution_count": 5,
   "metadata": {},
   "outputs": [],
   "source": [
    "# Get the initial and goal positions\n",
    "start_pos = planning_problem.initial_state.position\n",
    "goal_pos = planning_problem.goal.state_list[0].position.center\n",
    "\n",
    "parser = Parser(scenario=scenario, planning_problem=planning_problem,\\\n",
    "                  x_interval=Interval(-inf, inf), y_interval=Interval(-inf, inf))\n",
    "\n",
    "EPS = 1           # Epsilon of reached goal comparison\n",
    "LEN_EXC = 2       # The legnth of excuted trajectory (Number of states)\n",
    "LEN_DRAW = 10     # The length of the drawn trajectory (Number of states)\n",
    "\n",
    "conds = {\n",
    "      's0': parser.parse_initial_position(x_only=True),\n",
    "      'target_speed': 25,\n",
    "      'target_speed': planner.x_0.velocity,  # Uncomment to parsing the target speed from the scenario\n",
    "      'wp': parser.parse_waypoints(initial_state=start_pos, goal_state=goal_pos),\n",
    "      'obs': parser.parse_obstacles(time_step=0),\n",
    "      'pos': parser.parse_initial_position(x_only=False),\n",
    "      'vel': [2, -2], # Velocity in X and Y directions (I don't know how to set it properly yet)\n",
    "}\n",
    "\n",
    "initial_conditions = {\n",
    "      'ps': conds['s0'],\n",
    "      'target_speed': conds['target_speed'],\n",
    "      'pos': np.array(conds['pos']),\n",
    "      'vel': np.array(conds['vel']),\n",
    "      'wp': np.array(conds['wp']),\n",
    "      # 'obs': np.array([]),  # Uncomment to test with no obstacles\n",
    "      'obs': np.array(conds['obs'])     # Comment to test with no obstacles\n",
    "}\n",
    "\n",
    "hyperparameters = {\n",
    "      \"max_speed\": conds['target_speed'],\n",
    "      \"max_accel\": 25.0,\n",
    "      \"max_curvature\": 15.0,\n",
    "      \"max_road_width_l\": 1.75,\n",
    "      \"max_road_width_r\": 1.75,\n",
    "      \"d_road_w\": 0.2,\n",
    "      \"dt\": 0.3,\n",
    "      \"maxt\": 5.0,\n",
    "      \"mint\": 1.0,\n",
    "      \"d_t_s\": 0.2,\n",
    "      \"n_s_sample\": 50.0,\n",
    "      \"obstacle_clearance\": 0.0,\n",
    "      \"kd\": 1.0,\n",
    "      \"kv\": 0.1,\n",
    "      \"ka\": 0.1,\n",
    "      \"kj\": 0.1,\n",
    "      \"kt\": 0.1,\n",
    "      \"ko\": 0.1,\n",
    "      \"klat\": 1.0,\n",
    "      \"klon\": 1.0\n",
    "}\n",
    "\n",
    "w = initial_conditions[\"wp\"]"
   ]
  },
  {
   "cell_type": "markdown",
   "metadata": {},
   "source": [
    "### Planning and visualization loop"
   ]
  },
  {
   "cell_type": "code",
   "execution_count": null,
   "metadata": {},
   "outputs": [],
   "source": [
    "for i in range(100):\n",
    "      # print(\"loop: \", i)\n",
    "      # Run Frenet planner\n",
    "      result_x, result_y, speeds, ix, iy, iyaw, d, s, speeds_x, \\\n",
    "                  speeds_y, misc, costs, success = fot_wrapper.run_fot(initial_conditions, hyperparameters)\n",
    "                  \n",
    "      # Convert Frenet output (result_x, result_y, velocity, velocity_y) to PMState object (Point Mass Vehicle Model)\n",
    "      if i == 0:\n",
    "            states_list: List[List[PMState]] = [[PMState(time_step=j, position=np.array([result_x[j], result_y[j]]),\\\n",
    "                                                velocity=speeds_x[j], velocity_y=speeds_y[j])] for j in range(len(result_x[:LEN_DRAW]))]\n",
    "      else:\n",
    "            states_list: List[List[PMState]] = [[PMState(time_step=states_list[LEN_EXC-1][0].time_step+1+j, position=np.array([result_x[j], result_y[j]]),\\\n",
    "                                                velocity=speeds_x[j], velocity_y=speeds_y[j])] for j in range(len(result_x[:LEN_DRAW]))]\n",
    "      \n",
    "      # Convert the list of PMstates to CommonRoad trajectory (full trajectory to draw it and a shorter one to excute it)\n",
    "      full_trajectory = create_trajectory_from_list_states(states_list)\n",
    "      excuted_trajectory = create_trajectory_from_list_states(states_list[:LEN_EXC])\n",
    "      # print(misc)\n",
    "      # print(\"ix: \", ix, \"\\n\\n\", \"iy: \", iy, \"\\n\\n\", \"iyaw: \", iyaw, \"\\n\\n\")\n",
    "      # print(\"ix: \", d, \"\\n\\n\")\n",
    "      # print(\"result_x: \", result_x[0], \"\\nresult_y: \", result_y[0], \"\\n\")\n",
    "      \n",
    "      # Uncomment to print the planned states of the 2 time steps trajectory\n",
    "      # for state in excuted_trajectory.state_list:\n",
    "      #       print(state)\n",
    "      \n",
    "      # Uncomment to print the planned states of the full_trajectory\n",
    "      # for state in full_trajectory.state_list:\n",
    "      #       print(state)\n",
    "      \n",
    "      # Visualize the scenario and trajectories\n",
    "      visualize_solution(scenario = scenario, \n",
    "                         planning_problem_set = planning_problem, \n",
    "                         drawn_trajectory = full_trajectory, \n",
    "                         excuted_trajectory = excuted_trajectory,\n",
    "                         waypoints = w, \n",
    "                         t_s = i)\n",
    "      \n",
    "      if success:\n",
    "            # If planning suceeded, check if goal was reached. If true, break the planning loop\n",
    "            if np.abs(result_x[LEN_EXC-1] - goal_pos[0]) < EPS and np.abs(result_y[LEN_EXC-1] - goal_pos[1]) < EPS:\n",
    "                print(\"Goal Reached\")\n",
    "                break\n",
    "            \n",
    "            # Parse initial conditions again for the next time step\n",
    "            initial_conditions['pos'] = np.array([result_x[LEN_EXC-1], result_y[LEN_EXC-1]])\n",
    "            initial_conditions['vel'] = np.array([speeds_x[LEN_EXC-1], speeds_y[LEN_EXC-1]])\n",
    "            initial_conditions['ps'] = misc['s']\n",
    "            initial_conditions['vel'] = np.array([speeds_x[LEN_EXC-1], speeds_y[LEN_EXC-1]])\n",
    "            # initial_conditions['obs'] = np.array([])      # Uncomment to test with no obstacles\n",
    "            initial_conditions['obs'] = np.array(parser.parse_obstacles(time_step=i+1))         # Comment to test with no obstacles\n",
    "      else:\n",
    "            print(\"Failed unexpectedly\")\n",
    "            break\n"
   ]
  },
  {
   "cell_type": "code",
   "execution_count": null,
   "metadata": {},
   "outputs": [],
   "source": []
  }
 ],
 "metadata": {
  "kernelspec": {
   "display_name": "commroad",
   "language": "python",
   "name": "python3"
  },
  "language_info": {
   "codemirror_mode": {
    "name": "ipython",
    "version": 3
   },
   "file_extension": ".py",
   "mimetype": "text/x-python",
   "name": "python",
   "nbconvert_exporter": "python",
   "pygments_lexer": "ipython3",
   "version": "3.10.12"
  }
 },
 "nbformat": 4,
 "nbformat_minor": 2
}
